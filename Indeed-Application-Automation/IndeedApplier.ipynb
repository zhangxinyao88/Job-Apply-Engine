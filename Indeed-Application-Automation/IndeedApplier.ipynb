{
 "cells": [
  {
   "cell_type": "code",
   "execution_count": 9,
   "metadata": {},
   "outputs": [
    {
     "name": "stdout",
     "output_type": "stream",
     "text": [
      "https://www.indeed.com/pagead/clk?mo=r&ad=-6NYlbfkN0CZGlY1FoWl0i5gCXisQShMOcvzKlmArtzdEj5wzK5csO64T0SR2PpcDmHAgI88iyPfzIUNT55-RWz0NCSlLRdVyaEh0_Y7SnfWcdIQv0sPD3g2E6nIgsBJATffHsFrQLmEQuTRQYgodArs8s9HBEvqT5zesuvU_Rl5gb8jAxs45Ww3MeDCroUL64Rq0_ab6eahJak45D27gudsuxy2IDB5Nx7yOfSsskaPOrk4NRQPzzPEnA8y2N4vOQHD9EtpAqvuOF3IoNIYmw9wD2UYqkk4djO9lYFiHxTcPK_Stid6JVDbZPebDIRJWc0X0V45JPVmkmnH-fLWysifVxG4ximXXM_PD4yRYINGLcjuhpQ2eiZNtQpc-m94YBMhh6ocHYQSYzwAnWYKu9OOVudCoodMxWqZ1bjF6u97VFQDc9pa9JonDuW3c455racjALIhEnNAduHNlpTstm6T6nMB5t6TEUVK6Q3BZHrO3U5FYH8oC_OZyxKO7RMemS79lAB46VkA-myEVmzTZJwx63iGDx_K&vjs=3&p=1&sk=&fvj=0\n",
      "https://www.indeed.com/pagead/clk?mo=r&ad=-6NYlbfkN0BnvhFyc-_Zpa5qW1PYW73-m0sWtjlrkbtJfhe9--eds_E6jKuFgFuytWv7_c3eLWwd8RYbImgUgP5O7Hoalb-6bxW3RoydZB7XFtGTezobS8ITAo7liOXQRo9J8PT0iiXApZmo9c3Nn1leHWvneD5NFIwLF3TYow-q1m7xqh2p5AxHGxL7Xmgo8LRGGFDX9zx_Riui9-9rxIZAnT7jwqgIAZ_7956bRyOj2MaCanKmu25JREc9xm_3Y0Tig-eafaTPJhpyxXGmHtCZXFzRjmJr_WcYecYwHxHVVlRu84yXgh91oFXxkeCS2oCWkq_at4sABU75nFUqTH91bLw-Agkc7qSjjPJKDm7GO4uhrYsd_MVV7L9LKJY_OOTJyEs-FtF6MnUXWJovQp-leCtcdvV5pxMTgdSsMJBWAIuq7XwNDkyAOTOVt-lCxpQmqO61fxlE-jVVAOEfAWqNC8WGWkzWhQ-0RjBbyPlNt8n7r73JeIHUZaAV7farrYIj5Wrz5DeM77jiJbYtYO__dIHcZkpvWhMn5E2uMFsQR1azwCp5MvSl30V8ICLE-ijNrOx0hzPNzQOupSGEA3SQO3NOV6ZENNf9QRaUcK6WbJV26Z0MA-8iMhT3HwgQEYTlfqC7IIpZQaoYhK1ozpl2i8H15F4WlhPeimRfn3Tht-tvYuQHIy6L2ZEN4X1cbkInyaavv_WtEv5JFEs_h_dVsGrMWD2B0nLqZfoZLgnCFsI8asmin0YYrB0575_OA2SOOXVfJPC6d4GmnTfeUJLpXhLL1xWxgk-Zm6VmeEcxntycujPQGEwj9j260nsFGzEIU9RgSDhwjR_i-nV4DEvZdOKCcgDWCUPSlrrDbXqpHeS1xv5ZY-WL8zcPQmXdQqHF3TxmuPwOnXOYLckMPeBgnPn_vg1Fgb-IyJT84WHxDtI4jhfj-J6StkDbzlqWd8dxKqCrOXjH23I-auHqKj0N6AE19I11&vjs=3&p=2&sk=&fvj=0\n",
      "https://www.indeed.com/pagead/clk?mo=r&ad=-6NYlbfkN0Cu3Z3olcXR1PzeVCEWvqJBgpIRvUPJI1m-NNj7jtoLaYcKmr1bjUwAmIV3pxxN7PjJAAiugcjPxd-jzTkFA3f9mhyZQ38sQsfPtMWdlEoVW43vyvMEdixLNxEnEYk2KK0RcvF7uIgY7IF-7in1YAJUvPDl02jvD5LyZdLa6zbCf9vBFWl8CDme9SrxabLm_ULVMbQ9Mgr37JmQ00phjwq2sirQfLhS9cB4IaSZKenc2evX57Y1lo7Du-IOnJs7Vp0IzA8g2-9OZh0U4RWsOD5wN27O-5TFLyZPnR7fh6K2ExRh7kffy7ynr60mTPsGwoJJXSbU0RvIEAQgILxjxbylz4GLBm84-EqXlkkSuiKIBU0jI66HLdoG7Jz32cwkfY5RPaeQkPlwlqi1CRqLtlmhcY15GkdeKKPg0Xz7U_3V4nJZSbxHr9DuwjA3-hOgst0z8B5AOKhwxg==&vjs=3&p=3&sk=&fvj=1\n",
      "https://www.indeed.com/pagead/clk?mo=r&ad=-6NYlbfkN0CTorkMjkezGNxKPNKE3mH-Z7MuZ5l1GqZUJR-1QCgfhF3l2Wc3FPz5dCiQfWzLZZb73itroMssglozVzcxp02r84xQ2sj6bdtWNfPtqDSEYIhD6DT4eS3r-p_DEcRSX8tSIcVM-TJGlbZaDHWFwd73dWSZUi_EauZUws9cXL7ebyuWm8ePBNUFV2zH0SC5Kygt6aZakdKH7sWVXsjPO9nGyidWbsS1QZyCmC8WVkwjMEXEt8FQqz-ForbZqLebpY4GLEcckV5Fu_9U_4L0hJPIbMu0YuoP1O9vy6gbJhLnNSl6-JvTyEldc_zVb91RAyONMPD1PShev7A32SYsFN_MP5UlwAtzACCkXoLQt8O2GaBi-a-1vt_fVIkuERx2LBXkp0kMerTM_widv5B1KqNEsRAe0Ktmhdo=&vjs=3&p=4&sk=&fvj=0\n",
      "https://www.indeed.com/rc/clk?jk=194219f283939e7f&fccid=fcf465e707df52fb&vjs=3\n",
      "https://www.indeed.com/rc/clk?jk=ed8592ab28e1ecf2&fccid=70a994275a3b9062&vjs=3\n",
      "https://www.indeed.com/rc/clk?jk=237bf716cb598557&fccid=10492c8f2d7b4e4a&vjs=3\n",
      "https://www.indeed.com/rc/clk?jk=e7800e541260edb0&fccid=1639254ea84748b5&vjs=3\n",
      "https://www.indeed.com/rc/clk?jk=f720eaf1d3d67ec2&fccid=4027cfd917e1ee29&vjs=3\n",
      "https://www.indeed.com/rc/clk?jk=b1a7c1f94d4826a6&fccid=92f1ccd9154b0139&vjs=3\n",
      "https://www.indeed.com/rc/clk?jk=362d33f52c39bace&fccid=f379417fa48d0010&vjs=3\n",
      "https://www.indeed.com/rc/clk?jk=8f229db59da3337c&fccid=982983795f50be69&vjs=3\n",
      "https://www.indeed.com/rc/clk?jk=31cae04f7121cf4c&fccid=274de80e5a5db985&vjs=3\n",
      "https://www.indeed.com/rc/clk?jk=aec43a263d57bbe9&fccid=89b0c645cd530acf&vjs=3\n",
      "https://www.indeed.com/pagead/clk?mo=r&ad=-6NYlbfkN0CZUO70VSdYKA8PR3jfrSh5ljhqJhfDt0PzQCMubt8cRqAlH-JnDNgekFC7J2VEVO3NGWbhx2JZEGhbTN69nD36Ihp7ouXLax77mO3w-rKtlUW6ZHBMG0CzSiAw1s252BgcpSTw7nKouPgOSCcA6-NVXryeCUt8m254u9u65HZszutDx0xMhRT0h8fLOU3xuDvLwDcuXapX_XvbUlDdoWsVc8TMgF5Vf05GSGQP5c-nvSi48-WqN6QKKhAEWgpwsn2-oRAn0I8_7bIEKS3enUoFDubeBgtMpzCjMwuSjgWrKyKjtIDuMwCKu5Iy_HU_wGZmFtPWn7IAoLbY1VkDjW0L2d7fq3eI_z6jzKRHNh0LW6mWqvzAn4igtNWPvNXzzyC8EzM26mbMhk98eoqQ3n9RRW5dez60qDMNgKr_V3BkTSDQtykOqqRd3k7yu62Ud-O7xNfQZxql_xejwG0tqPwUFQ6Xw7fZNRccHlt2eAqKztLSaJzFUOyNApobPKYUyVHC7I-VyZ-Qvg==&vjs=3&p=6&sk=&fvj=0\n"
     ]
    }
   ],
   "source": [
    "from bs4 import BeautifulSoup as bs\n",
    "from selenium import webdriver\n",
    "from selenium.webdriver.common.keys import Keys\n",
    "import requests\n",
    "import time\n",
    "import datetime\n",
    "import sqlite3 as sql\n",
    "\n",
    "\n",
    "#Create table in SQL database if one does not already exist\n",
    "def create_table():\n",
    "    c.execute('CREATE TABLE IF NOT EXISTS jobInfo(aID INT, job_title TEXT, company_name TEXT, location TEXT, discription TEXT)')\n",
    "    \n",
    "#SQL command to insert data into tables\n",
    "def dynamic_data_entry(aID, artist, album, releaseDate):\n",
    "    c.execute(\"INSERT INTO job_info VALUES (?,?,?,?,?)\", (aID, job_title, company_name, location, discription))\n",
    "\n",
    " \n",
    "#Set up SQL db and cursor\n",
    "conn = sql.connect('artistInfo.db')\n",
    "c = conn.cursor() \n",
    "create_table()\n",
    "driver  = webdriver.Chrome()\n",
    "job_title = \"software engineer intern\"\n",
    "location = \"baltimore\"\n",
    "driver.get(\"https://www.indeed.com/jobs?q=\" + job_title + \"&l=\")\n",
    "#driver.get(\"https://www.indeed.com\")\n",
    "'''\n",
    "driver.find_element_by_id(\"text-input-what\").send_keys(job_title)\n",
    "#driver.find_element_by_id(\"text-input-where\").send_keys(location)\n",
    "driver.find_element_by_id(\"text-input-where\").send_keys(Keys.ENTER)\n",
    "'''\n",
    "Jobs = driver.find_elements_by_xpath(\"//*[contains(@class,'row result clickcard')]\")\n",
    "for items in Jobs:\n",
    "    job = items.find_element_by_class_name('snip')\n",
    "    description = job.text\n",
    "    print\n",
    " \n",
    "\n",
    "\n",
    "x = 0\n",
    "\n",
    "url_array = []\n",
    "\n",
    "for job in Jobs:      \n",
    "    job_title = job.find_element_by_tag_name(\"a\").text\n",
    "    company = job.find_element_by_class_name(\"company\").text\n",
    "    location = job.find_element_by_tag_name(\"a\").text\n",
    "    \n",
    "    a = job.find_element_by_xpath(\".//a\")\n",
    "    url = a.get_attribute(\"href\")\n",
    "    url_array.append(url)\n",
    "    #dynamic_data_entry(job_title,company)\n",
    "\n",
    "for url in url_array:\n",
    "    print(url)\n",
    "\n"
   ]
  },
  {
   "cell_type": "code",
   "execution_count": null,
   "metadata": {},
   "outputs": [],
   "source": []
  },
  {
   "cell_type": "code",
   "execution_count": null,
   "metadata": {},
   "outputs": [],
   "source": []
  },
  {
   "cell_type": "code",
   "execution_count": null,
   "metadata": {},
   "outputs": [],
   "source": []
  },
  {
   "cell_type": "code",
   "execution_count": null,
   "metadata": {},
   "outputs": [],
   "source": []
  },
  {
   "cell_type": "code",
   "execution_count": null,
   "metadata": {},
   "outputs": [],
   "source": []
  }
 ],
 "metadata": {
  "kernelspec": {
   "display_name": "Python 3",
   "language": "python",
   "name": "python3"
  },
  "language_info": {
   "codemirror_mode": {
    "name": "ipython",
    "version": 3
   },
   "file_extension": ".py",
   "mimetype": "text/x-python",
   "name": "python",
   "nbconvert_exporter": "python",
   "pygments_lexer": "ipython3",
   "version": "3.6.4"
  }
 },
 "nbformat": 4,
 "nbformat_minor": 2
}
